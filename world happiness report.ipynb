{
 "cells": [
  {
   "cell_type": "code",
   "execution_count": 31,
   "id": "b3f168c0",
   "metadata": {},
   "outputs": [],
   "source": [
    "#for manipulations\n",
    "import numpy as np\n",
    "import pandas as pd\n",
    "\n",
    "#for data visualizations\n",
    "import matplotlib.pyplot as plt\n",
    "import seaborn as sns\n",
    "\n",
    "#for interactivity\n",
    "from ipywidgets import interact\n"
   ]
  },
  {
   "cell_type": "code",
   "execution_count": 32,
   "id": "992c829c",
   "metadata": {},
   "outputs": [],
   "source": [
    "#lets read the dataset\n",
    "data = pd.read_csv('world-happiness-report.csv')"
   ]
  },
  {
   "cell_type": "code",
   "execution_count": 33,
   "id": "1674a130",
   "metadata": {},
   "outputs": [
    {
     "name": "stdout",
     "output_type": "stream",
     "text": [
      "shape of the Dataset:  (1949, 11)\n"
     ]
    }
   ],
   "source": [
    "#lets check the shape of the dataset\n",
    "print(\"shape of the Dataset: \", data.shape)"
   ]
  },
  {
   "cell_type": "code",
   "execution_count": 34,
   "id": "da402b49",
   "metadata": {},
   "outputs": [
    {
     "data": {
      "text/html": [
       "<div>\n",
       "<style scoped>\n",
       "    .dataframe tbody tr th:only-of-type {\n",
       "        vertical-align: middle;\n",
       "    }\n",
       "\n",
       "    .dataframe tbody tr th {\n",
       "        vertical-align: top;\n",
       "    }\n",
       "\n",
       "    .dataframe thead th {\n",
       "        text-align: right;\n",
       "    }\n",
       "</style>\n",
       "<table border=\"1\" class=\"dataframe\">\n",
       "  <thead>\n",
       "    <tr style=\"text-align: right;\">\n",
       "      <th></th>\n",
       "      <th>Country name</th>\n",
       "      <th>year</th>\n",
       "      <th>Life Ladder</th>\n",
       "      <th>Log GDP per capita</th>\n",
       "      <th>Social support</th>\n",
       "      <th>Healthy life expectancy at birth</th>\n",
       "      <th>Freedom to make life choices</th>\n",
       "      <th>Generosity</th>\n",
       "      <th>Perceptions of corruption</th>\n",
       "      <th>Positive affect</th>\n",
       "      <th>Negative affect</th>\n",
       "    </tr>\n",
       "  </thead>\n",
       "  <tbody>\n",
       "    <tr>\n",
       "      <th>0</th>\n",
       "      <td>Afghanistan</td>\n",
       "      <td>2008</td>\n",
       "      <td>3.724</td>\n",
       "      <td>7.370</td>\n",
       "      <td>0.451</td>\n",
       "      <td>50.80</td>\n",
       "      <td>0.718</td>\n",
       "      <td>0.168</td>\n",
       "      <td>0.882</td>\n",
       "      <td>0.518</td>\n",
       "      <td>0.258</td>\n",
       "    </tr>\n",
       "    <tr>\n",
       "      <th>1</th>\n",
       "      <td>Afghanistan</td>\n",
       "      <td>2009</td>\n",
       "      <td>4.402</td>\n",
       "      <td>7.540</td>\n",
       "      <td>0.552</td>\n",
       "      <td>51.20</td>\n",
       "      <td>0.679</td>\n",
       "      <td>0.190</td>\n",
       "      <td>0.850</td>\n",
       "      <td>0.584</td>\n",
       "      <td>0.237</td>\n",
       "    </tr>\n",
       "    <tr>\n",
       "      <th>2</th>\n",
       "      <td>Afghanistan</td>\n",
       "      <td>2010</td>\n",
       "      <td>4.758</td>\n",
       "      <td>7.647</td>\n",
       "      <td>0.539</td>\n",
       "      <td>51.60</td>\n",
       "      <td>0.600</td>\n",
       "      <td>0.121</td>\n",
       "      <td>0.707</td>\n",
       "      <td>0.618</td>\n",
       "      <td>0.275</td>\n",
       "    </tr>\n",
       "    <tr>\n",
       "      <th>3</th>\n",
       "      <td>Afghanistan</td>\n",
       "      <td>2011</td>\n",
       "      <td>3.832</td>\n",
       "      <td>7.620</td>\n",
       "      <td>0.521</td>\n",
       "      <td>51.92</td>\n",
       "      <td>0.496</td>\n",
       "      <td>0.162</td>\n",
       "      <td>0.731</td>\n",
       "      <td>0.611</td>\n",
       "      <td>0.267</td>\n",
       "    </tr>\n",
       "    <tr>\n",
       "      <th>4</th>\n",
       "      <td>Afghanistan</td>\n",
       "      <td>2012</td>\n",
       "      <td>3.783</td>\n",
       "      <td>7.705</td>\n",
       "      <td>0.521</td>\n",
       "      <td>52.24</td>\n",
       "      <td>0.531</td>\n",
       "      <td>0.236</td>\n",
       "      <td>0.776</td>\n",
       "      <td>0.710</td>\n",
       "      <td>0.268</td>\n",
       "    </tr>\n",
       "  </tbody>\n",
       "</table>\n",
       "</div>"
      ],
      "text/plain": [
       "  Country name  year  Life Ladder  Log GDP per capita  Social support  \\\n",
       "0  Afghanistan  2008        3.724               7.370           0.451   \n",
       "1  Afghanistan  2009        4.402               7.540           0.552   \n",
       "2  Afghanistan  2010        4.758               7.647           0.539   \n",
       "3  Afghanistan  2011        3.832               7.620           0.521   \n",
       "4  Afghanistan  2012        3.783               7.705           0.521   \n",
       "\n",
       "   Healthy life expectancy at birth  Freedom to make life choices  Generosity  \\\n",
       "0                             50.80                         0.718       0.168   \n",
       "1                             51.20                         0.679       0.190   \n",
       "2                             51.60                         0.600       0.121   \n",
       "3                             51.92                         0.496       0.162   \n",
       "4                             52.24                         0.531       0.236   \n",
       "\n",
       "   Perceptions of corruption  Positive affect  Negative affect  \n",
       "0                      0.882            0.518            0.258  \n",
       "1                      0.850            0.584            0.237  \n",
       "2                      0.707            0.618            0.275  \n",
       "3                      0.731            0.611            0.267  \n",
       "4                      0.776            0.710            0.268  "
      ]
     },
     "execution_count": 34,
     "metadata": {},
     "output_type": "execute_result"
    }
   ],
   "source": [
    "#lets check the head of the dataset\n",
    "data.head()"
   ]
  },
  {
   "cell_type": "code",
   "execution_count": 35,
   "id": "03f040cf",
   "metadata": {},
   "outputs": [
    {
     "data": {
      "text/plain": [
       "Country name                          0\n",
       "year                                  0\n",
       "Life Ladder                           0\n",
       "Log GDP per capita                   36\n",
       "Social support                       13\n",
       "Healthy life expectancy at birth     55\n",
       "Freedom to make life choices         32\n",
       "Generosity                           89\n",
       "Perceptions of corruption           110\n",
       "Positive affect                      22\n",
       "Negative affect                      16\n",
       "dtype: int64"
      ]
     },
     "execution_count": 35,
     "metadata": {},
     "output_type": "execute_result"
    }
   ],
   "source": [
    "#lets check if there is any missing value present in the dataset\n",
    "data.isnull().sum()"
   ]
  },
  {
   "cell_type": "code",
   "execution_count": 40,
   "id": "5d93cb01",
   "metadata": {},
   "outputs": [],
   "source": [
    "#lets handl the missing values\n",
    "new_data = data.dropna()"
   ]
  },
  {
   "cell_type": "code",
   "execution_count": 41,
   "id": "d89797bd",
   "metadata": {},
   "outputs": [
    {
     "name": "stdout",
     "output_type": "stream",
     "text": [
      "<class 'pandas.core.frame.DataFrame'>\n",
      "Int64Index: 1708 entries, 0 to 1948\n",
      "Data columns (total 11 columns):\n",
      " #   Column                            Non-Null Count  Dtype  \n",
      "---  ------                            --------------  -----  \n",
      " 0   Country name                      1708 non-null   object \n",
      " 1   year                              1708 non-null   int64  \n",
      " 2   Life Ladder                       1708 non-null   float64\n",
      " 3   Log GDP per capita                1708 non-null   float64\n",
      " 4   Social support                    1708 non-null   float64\n",
      " 5   Healthy life expectancy at birth  1708 non-null   float64\n",
      " 6   Freedom to make life choices      1708 non-null   float64\n",
      " 7   Generosity                        1708 non-null   float64\n",
      " 8   Perceptions of corruption         1708 non-null   float64\n",
      " 9   Positive affect                   1708 non-null   float64\n",
      " 10  Negative affect                   1708 non-null   float64\n",
      "dtypes: float64(9), int64(1), object(1)\n",
      "memory usage: 160.1+ KB\n"
     ]
    }
   ],
   "source": [
    "new_data.info()"
   ]
  },
  {
   "cell_type": "code",
   "execution_count": 37,
   "id": "b9827426",
   "metadata": {},
   "outputs": [
    {
     "data": {
      "text/plain": [
       "(1708, 11)"
      ]
     },
     "execution_count": 37,
     "metadata": {},
     "output_type": "execute_result"
    }
   ],
   "source": [
    "#lets check the shape of data after drop the missing vlaues\n",
    "new_data.shape"
   ]
  },
  {
   "cell_type": "code",
   "execution_count": 38,
   "id": "19cb6c69",
   "metadata": {},
   "outputs": [
    {
     "data": {
      "text/plain": [
       "Country name                        0\n",
       "year                                0\n",
       "Life Ladder                         0\n",
       "Log GDP per capita                  0\n",
       "Social support                      0\n",
       "Healthy life expectancy at birth    0\n",
       "Freedom to make life choices        0\n",
       "Generosity                          0\n",
       "Perceptions of corruption           0\n",
       "Positive affect                     0\n",
       "Negative affect                     0\n",
       "dtype: int64"
      ]
     },
     "execution_count": 38,
     "metadata": {},
     "output_type": "execute_result"
    }
   ],
   "source": [
    "new_data.isnull().sum()"
   ]
  },
  {
   "cell_type": "code",
   "execution_count": 39,
   "id": "1e17f82f",
   "metadata": {},
   "outputs": [
    {
     "data": {
      "text/plain": [
       "2011    132\n",
       "2017    132\n",
       "2014    127\n",
       "2015    127\n",
       "2018    126\n",
       "2019    126\n",
       "2013    124\n",
       "2016    124\n",
       "2012    121\n",
       "2010    112\n",
       "2009    106\n",
       "2008    101\n",
       "2007     94\n",
       "2020     81\n",
       "2006     74\n",
       "2005      1\n",
       "Name: year, dtype: int64"
      ]
     },
     "execution_count": 39,
     "metadata": {},
     "output_type": "execute_result"
    }
   ],
   "source": [
    "new_data['year'].value_counts()"
   ]
  },
  {
   "cell_type": "code",
   "execution_count": 13,
   "id": "958f19bc",
   "metadata": {},
   "outputs": [
    {
     "data": {
      "application/vnd.jupyter.widget-view+json": {
       "model_id": "6c7e6c69202a41a9990daa3081f3d26a",
       "version_major": 2,
       "version_minor": 0
      },
      "text/plain": [
       "interactive(children=(Dropdown(description='year_list', options=(2011, 2017, 2014, 2015, 2018, 2019, 2013, 201…"
      ]
     },
     "metadata": {},
     "output_type": "display_data"
    }
   ],
   "source": [
    "#lets check the summary statistics for each year\n",
    "\n",
    "@interact\n",
    "def summary(year_list = list(new_data['year'].value_counts().index)):\n",
    "    x = new_data[new_data['year'] == year_list]\n",
    "    print(\"........................................................\")\n",
    "    print(\"Statistics for Life Ladder\")\n",
    "    print(\"Minimum of Life Ladder : \", x['Life Ladder'].min())\n",
    "    print(\"Average of Life Ladder : \", x['Life Ladder'].mean())\n",
    "    print(\"Maximum of Life Ladder : \", x['Life Ladder'].max())\n",
    "    print(\"........................................................\")\n",
    "    print(\"Statistics for Log GDP per capita\")\n",
    "    print(\"Minimum of Log GDP per capita : \", x['Log GDP per capita'].min())\n",
    "    print(\"Average of Log GDP per capita : \", x['Log GDP per capita'].mean())\n",
    "    print(\"Maximum of Log GDP per capita : \", x['Log GDP per capita'].max())\n",
    "    print(\"........................................................\")\n",
    "    print(\"Statistics for Social support\")\n",
    "    print(\"Minimum of Social support : \", x['Social support'].min())\n",
    "    print(\"Average of Social support : \", x['Social support'].mean())\n",
    "    print(\"Maximum of Social support : \", x['Social support'].max())\n",
    "    print(\"........................................................\")\n",
    "    print(\"Statistics for Healthy life expectancy at birth\")\n",
    "    print(\"Minimum of Healthy life expectancy at birth : \", x['Healthy life expectancy at birth'].min())\n",
    "    print(\"Average of Healthy life expectancy at birth : \", x['Healthy life expectancy at birth'].mean())\n",
    "    print(\"Maximum of Healthy life expectancy at birth : \", x['Healthy life expectancy at birth'].max())\n",
    "    print(\"........................................................\")\n",
    "    print(\"Statistics for Freedom to make life choices\")\n",
    "    print(\"Minimum of Freedom to make life choices : \", x['Freedom to make life choices'].min())\n",
    "    print(\"Average of Freedom to make life choices : \", x['Freedom to make life choices'].mean())\n",
    "    print(\"Maximum of Freedom to make life choices : \", x['Freedom to make life choices'].max())\n",
    "    print(\"........................................................\")\n",
    "    print(\"Statistics for Generosity\")\n",
    "    print(\"Minimum of Generosity : \", x['Generosity'].min())\n",
    "    print(\"Average of Generosity : \", x['Generosity'].mean())\n",
    "    print(\"Maximum of Generosity : \", x['Generosity'].max())\n",
    "    print(\"........................................................\")\n",
    "    print(\"Statistics for Perceptions of corruption\")\n",
    "    print(\"Minimum of Perceptions of corruption : \", x['Perceptions of corruption'].min())\n",
    "    print(\"Average of Perceptions of corruption : \", x['Perceptions of corruption'].mean())\n",
    "    print(\"Maximum of Perceptions of corruption : \", x['Perceptions of corruption'].max())\n",
    "    print(\"........................................................\")\n",
    "    print(\"Statistics for Positive affect\")\n",
    "    print(\"Minimum of Positive affect : \", x['Positive affect'].min())\n",
    "    print(\"Average of Positive affect : \", x['Positive affect'].mean())\n",
    "    print(\"Maximum of Positive affect : \", x['Positive affect'].max())\n",
    "    print(\"........................................................\")\n",
    "    print(\"Statistics for Negative affect\")\n",
    "    print(\"Minimum of Negative affect : \", x['Negative affect'].min())\n",
    "    print(\"Average of Negative affect : \", x['Negative affect'].mean())\n",
    "    print(\"Maximum of Negative affect : \", x['Negative affect'].max())\n",
    "    print(\"........................................................\")"
   ]
  },
  {
   "cell_type": "code",
   "execution_count": 14,
   "id": "73319f5c",
   "metadata": {},
   "outputs": [
    {
     "data": {
      "application/vnd.jupyter.widget-view+json": {
       "model_id": "75d34f64e29542b7a3406151dbd4bc46",
       "version_major": 2,
       "version_minor": 0
      },
      "text/plain": [
       "interactive(children=(Dropdown(description='country_list', options=('Zimbabwe', 'Bolivia', 'Kyrgyzstan', 'Lith…"
      ]
     },
     "metadata": {},
     "output_type": "display_data"
    }
   ],
   "source": [
    "#lets check the summary statistics for each country\n",
    "\n",
    "@interact\n",
    "def summary(country_list = list(new_data['Country name'].value_counts().index)):\n",
    "    x = new_data[new_data['Country name'] == country_list]\n",
    "    print(\"........................................................\")\n",
    "    print(\"Statistics for Life Ladder\")\n",
    "    print(\"Minimum of Life Ladder : \", x['Life Ladder'].min())\n",
    "    print(\"Average of Life Ladder : \", x['Life Ladder'].mean())\n",
    "    print(\"Maximum of Life Ladder : \", x['Life Ladder'].max())\n",
    "    print(\"........................................................\")\n",
    "    print(\"Statistics for Log GDP per capita\")\n",
    "    print(\"Minimum of Log GDP per capita : \", x['Log GDP per capita'].min())\n",
    "    print(\"Average of Log GDP per capita : \", x['Log GDP per capita'].mean())\n",
    "    print(\"Maximum of Log GDP per capita : \", x['Log GDP per capita'].max())\n",
    "    print(\"........................................................\")\n",
    "    print(\"Statistics for Social support\")\n",
    "    print(\"Minimum of Social support : \", x['Social support'].min())\n",
    "    print(\"Average of Social support : \", x['Social support'].mean())\n",
    "    print(\"Maximum of Social support : \", x['Social support'].max())\n",
    "    print(\"........................................................\")\n",
    "    print(\"Statistics for Healthy life expectancy at birth\")\n",
    "    print(\"Minimum of Healthy life expectancy at birth : \", x['Healthy life expectancy at birth'].min())\n",
    "    print(\"Average of Healthy life expectancy at birth : \", x['Healthy life expectancy at birth'].mean())\n",
    "    print(\"Maximum of Healthy life expectancy at birth : \", x['Healthy life expectancy at birth'].max())\n",
    "    print(\"........................................................\")\n",
    "    print(\"Statistics for Freedom to make life choices\")\n",
    "    print(\"Minimum of Freedom to make life choices : \", x['Freedom to make life choices'].min())\n",
    "    print(\"Average of Freedom to make life choices : \", x['Freedom to make life choices'].mean())\n",
    "    print(\"Maximum of Freedom to make life choices : \", x['Freedom to make life choices'].max())\n",
    "    print(\"........................................................\")\n",
    "    print(\"Statistics for Generosity\")\n",
    "    print(\"Minimum of Generosity : \", x['Generosity'].min())\n",
    "    print(\"Average of Generosity : \", x['Generosity'].mean())\n",
    "    print(\"Maximum of Generosity : \", x['Generosity'].max())\n",
    "    print(\"........................................................\")\n",
    "    print(\"Statistics for Perceptions of corruption\")\n",
    "    print(\"Minimum of Perceptions of corruption : \", x['Perceptions of corruption'].min())\n",
    "    print(\"Average of Perceptions of corruption : \", x['Perceptions of corruption'].mean())\n",
    "    print(\"Maximum of Perceptions of corruption : \", x['Perceptions of corruption'].max())\n",
    "    print(\"........................................................\")\n",
    "    print(\"Statistics for Positive affect\")\n",
    "    print(\"Minimum of Positive affect : \", x['Positive affect'].min())\n",
    "    print(\"Average of Positive affect : \", x['Positive affect'].mean())\n",
    "    print(\"Maximum of Positive affect : \", x['Positive affect'].max())\n",
    "    print(\"........................................................\")\n",
    "    print(\"Statistics for Negative affect\")\n",
    "    print(\"Minimum of Negative affect : \", x['Negative affect'].min())\n",
    "    print(\"Average of Negative affect : \", x['Negative affect'].mean())\n",
    "    print(\"Maximum of Negative affect : \", x['Negative affect'].max())\n",
    "    print(\"........................................................\")"
   ]
  },
  {
   "cell_type": "code",
   "execution_count": 43,
   "id": "fa44b877",
   "metadata": {},
   "outputs": [
    {
     "name": "stdout",
     "output_type": "stream",
     "text": [
      "Countries Which have the High Generosity: ['Myanmar']\n",
      "Countries Which have the High Social support: ['Iceland' 'Ireland' 'New Zealand']\n",
      "Countries Which have the High Freedom to make life choices: ['Uzbekistan']\n",
      "Countries Which have the High Healthy life expectancy at birth: ['Japan' 'Singapore']\n",
      "Countries Which have the Low Healthy life expectancy at birth: ['Central African Republic' 'Chad' 'Haiti' 'Malawi' 'Mozambique' 'Nigeria'\n",
      " 'Sierra Leone' 'Swaziland' 'Zambia' 'Zimbabwe']\n",
      "Countries Which have the High Perceptions of corruption: ['Afghanistan' 'Bosnia and Herzegovina' 'Bulgaria' 'Cambodia' 'Chad'\n",
      " 'Croatia' 'Czech Republic' 'Greece' 'Hungary' 'Indonesia' 'Lithuania'\n",
      " 'Moldova' 'Mongolia' 'Portugal' 'Romania' 'Russia' 'Serbia'\n",
      " 'Trinidad and Tobago' 'Ukraine' 'Zimbabwe']\n",
      "Countries Which have the Low Perceptions of corruption: ['Singapore']\n",
      "Countries Which have the High Positive affect: ['Paraguay' 'Thailand']\n",
      "Countries Which have the Low Positive affect: ['Afghanistan' 'Georgia' 'Iraq' 'Lebanon' 'Syria' 'Togo' 'Tunisia'\n",
      " 'Turkey']\n",
      "Countries Which have the High Negative affect: ['Central African Republic' 'Iran' 'Iraq' 'Syria']\n",
      "Countries Which have the Low Negative affect: ['Mali' 'Singapore' 'Taiwan Province of China' 'Uzbekistan']\n"
     ]
    }
   ],
   "source": [
    "#lets check some interesting facts\n",
    "\n",
    "print(\"Countries Which have the High Generosity:\", new_data[new_data['Generosity'] > 0.688]['Country name'].unique())\n",
    "print(\"Countries Which have the High Social support:\", new_data[new_data['Social support'] > 0.98]['Country name'].unique())\n",
    "print(\"Countries Which have the High Freedom to make life choices:\", new_data[new_data['Freedom to make life choices'] > 0.97]['Country name'].unique())\n",
    "print(\"Countries Which have the High Healthy life expectancy at birth:\", new_data[new_data['Healthy life expectancy at birth'] > 75]['Country name'].unique())\n",
    "print(\"Countries Which have the Low Healthy life expectancy at birth:\", new_data[new_data['Healthy life expectancy at birth'] < 45]['Country name'].unique())\n",
    "print(\"Countries Which have the High Perceptions of corruption:\", new_data[new_data['Perceptions of corruption'] > 0.95]['Country name'].unique())\n",
    "print(\"Countries Which have the Low Perceptions of corruption:\", new_data[new_data['Perceptions of corruption'] < 0.078]['Country name'].unique())\n",
    "print(\"Countries Which have the High Positive affect:\", new_data[new_data['Positive affect'] > 0.93]['Country name'].unique())\n",
    "print(\"Countries Which have the Low Positive affect:\", new_data[new_data['Positive affect'] < 0.44]['Country name'].unique())\n",
    "print(\"Countries Which have the High Negative affect:\", new_data[new_data['Negative affect'] > 0.55]['Country name'].unique())\n",
    "print(\"Countries Which have the Low Negative affect:\", new_data[new_data['Negative affect'] < 0.11]['Country name'].unique())\n"
   ]
  },
  {
   "cell_type": "code",
   "execution_count": 63,
   "id": "507352c1",
   "metadata": {},
   "outputs": [
    {
     "name": "stdout",
     "output_type": "stream",
     "text": [
      "Shape of y: (1708,)\n",
      "Shape of x: (1708, 10)\n"
     ]
    }
   ],
   "source": [
    "#lets split the Dataset for predictive Modeling\n",
    "\n",
    "y = new_data['Country name']\n",
    "x = new_data.drop(['Country name'], axis=1)\n",
    "\n",
    "print(\"Shape of y:\", y.shape)\n",
    "print(\"Shape of x:\", x.shape)"
   ]
  },
  {
   "cell_type": "code",
   "execution_count": 45,
   "id": "dbd39681",
   "metadata": {},
   "outputs": [
    {
     "name": "stdout",
     "output_type": "stream",
     "text": [
      "The shape of x train: (1707, 10)\n",
      "The shape of x test: (1, 10)\n",
      "The shape of y train: (1707,)\n",
      "The shape of y test: (1,)\n"
     ]
    }
   ],
   "source": [
    "#lets create Training any Testing sets for validation of Results\n",
    "\n",
    "from sklearn.model_selection import train_test_split\n",
    "\n",
    "x_train, x_test, y_train, y_test = train_test_split(x, y, test_size= 1, random_state = 0)\n",
    "\n",
    "print(\"The shape of x train:\", x_train.shape)\n",
    "print(\"The shape of x test:\", x_test.shape)\n",
    "print(\"The shape of y train:\", y_train.shape)\n",
    "print(\"The shape of y test:\", y_test.shape)"
   ]
  },
  {
   "cell_type": "code",
   "execution_count": 46,
   "id": "0c4f5780",
   "metadata": {},
   "outputs": [
    {
     "name": "stderr",
     "output_type": "stream",
     "text": [
      "C:\\Users\\Sajad\\anaconda3\\lib\\site-packages\\sklearn\\linear_model\\_logistic.py:814: ConvergenceWarning: lbfgs failed to converge (status=1):\n",
      "STOP: TOTAL NO. of ITERATIONS REACHED LIMIT.\n",
      "\n",
      "Increase the number of iterations (max_iter) or scale the data as shown in:\n",
      "    https://scikit-learn.org/stable/modules/preprocessing.html\n",
      "Please also refer to the documentation for alternative solver options:\n",
      "    https://scikit-learn.org/stable/modules/linear_model.html#logistic-regression\n",
      "  n_iter_i = _check_optimize_result(\n"
     ]
    }
   ],
   "source": [
    "#lets create a predictive Model\n",
    "\n",
    "from sklearn.linear_model import LogisticRegression\n",
    "\n",
    "model = LogisticRegression()\n",
    "model.fit(x_train, y_train)\n",
    "y_pred = model.predict(x_test)"
   ]
  },
  {
   "cell_type": "code",
   "execution_count": 49,
   "id": "d25b8930",
   "metadata": {},
   "outputs": [
    {
     "data": {
      "text/html": [
       "<div>\n",
       "<style scoped>\n",
       "    .dataframe tbody tr th:only-of-type {\n",
       "        vertical-align: middle;\n",
       "    }\n",
       "\n",
       "    .dataframe tbody tr th {\n",
       "        vertical-align: top;\n",
       "    }\n",
       "\n",
       "    .dataframe thead th {\n",
       "        text-align: right;\n",
       "    }\n",
       "</style>\n",
       "<table border=\"1\" class=\"dataframe\">\n",
       "  <thead>\n",
       "    <tr style=\"text-align: right;\">\n",
       "      <th></th>\n",
       "      <th>Country name</th>\n",
       "      <th>year</th>\n",
       "      <th>Life Ladder</th>\n",
       "      <th>Log GDP per capita</th>\n",
       "      <th>Social support</th>\n",
       "      <th>Healthy life expectancy at birth</th>\n",
       "      <th>Freedom to make life choices</th>\n",
       "      <th>Generosity</th>\n",
       "      <th>Perceptions of corruption</th>\n",
       "      <th>Positive affect</th>\n",
       "      <th>Negative affect</th>\n",
       "    </tr>\n",
       "  </thead>\n",
       "  <tbody>\n",
       "    <tr>\n",
       "      <th>0</th>\n",
       "      <td>Afghanistan</td>\n",
       "      <td>2008</td>\n",
       "      <td>3.724</td>\n",
       "      <td>7.370</td>\n",
       "      <td>0.451</td>\n",
       "      <td>50.80</td>\n",
       "      <td>0.718</td>\n",
       "      <td>0.168</td>\n",
       "      <td>0.882</td>\n",
       "      <td>0.518</td>\n",
       "      <td>0.258</td>\n",
       "    </tr>\n",
       "    <tr>\n",
       "      <th>1</th>\n",
       "      <td>Afghanistan</td>\n",
       "      <td>2009</td>\n",
       "      <td>4.402</td>\n",
       "      <td>7.540</td>\n",
       "      <td>0.552</td>\n",
       "      <td>51.20</td>\n",
       "      <td>0.679</td>\n",
       "      <td>0.190</td>\n",
       "      <td>0.850</td>\n",
       "      <td>0.584</td>\n",
       "      <td>0.237</td>\n",
       "    </tr>\n",
       "    <tr>\n",
       "      <th>2</th>\n",
       "      <td>Afghanistan</td>\n",
       "      <td>2010</td>\n",
       "      <td>4.758</td>\n",
       "      <td>7.647</td>\n",
       "      <td>0.539</td>\n",
       "      <td>51.60</td>\n",
       "      <td>0.600</td>\n",
       "      <td>0.121</td>\n",
       "      <td>0.707</td>\n",
       "      <td>0.618</td>\n",
       "      <td>0.275</td>\n",
       "    </tr>\n",
       "    <tr>\n",
       "      <th>3</th>\n",
       "      <td>Afghanistan</td>\n",
       "      <td>2011</td>\n",
       "      <td>3.832</td>\n",
       "      <td>7.620</td>\n",
       "      <td>0.521</td>\n",
       "      <td>51.92</td>\n",
       "      <td>0.496</td>\n",
       "      <td>0.162</td>\n",
       "      <td>0.731</td>\n",
       "      <td>0.611</td>\n",
       "      <td>0.267</td>\n",
       "    </tr>\n",
       "    <tr>\n",
       "      <th>4</th>\n",
       "      <td>Afghanistan</td>\n",
       "      <td>2012</td>\n",
       "      <td>3.783</td>\n",
       "      <td>7.705</td>\n",
       "      <td>0.521</td>\n",
       "      <td>52.24</td>\n",
       "      <td>0.531</td>\n",
       "      <td>0.236</td>\n",
       "      <td>0.776</td>\n",
       "      <td>0.710</td>\n",
       "      <td>0.268</td>\n",
       "    </tr>\n",
       "  </tbody>\n",
       "</table>\n",
       "</div>"
      ],
      "text/plain": [
       "  Country name  year  Life Ladder  Log GDP per capita  Social support  \\\n",
       "0  Afghanistan  2008        3.724               7.370           0.451   \n",
       "1  Afghanistan  2009        4.402               7.540           0.552   \n",
       "2  Afghanistan  2010        4.758               7.647           0.539   \n",
       "3  Afghanistan  2011        3.832               7.620           0.521   \n",
       "4  Afghanistan  2012        3.783               7.705           0.521   \n",
       "\n",
       "   Healthy life expectancy at birth  Freedom to make life choices  Generosity  \\\n",
       "0                             50.80                         0.718       0.168   \n",
       "1                             51.20                         0.679       0.190   \n",
       "2                             51.60                         0.600       0.121   \n",
       "3                             51.92                         0.496       0.162   \n",
       "4                             52.24                         0.531       0.236   \n",
       "\n",
       "   Perceptions of corruption  Positive affect  Negative affect  \n",
       "0                      0.882            0.518            0.258  \n",
       "1                      0.850            0.584            0.237  \n",
       "2                      0.707            0.618            0.275  \n",
       "3                      0.731            0.611            0.267  \n",
       "4                      0.776            0.710            0.268  "
      ]
     },
     "execution_count": 49,
     "metadata": {},
     "output_type": "execute_result"
    }
   ],
   "source": [
    "new_data.head()"
   ]
  },
  {
   "cell_type": "code",
   "execution_count": 65,
   "id": "05ab6508",
   "metadata": {},
   "outputs": [
    {
     "name": "stdout",
     "output_type": "stream",
     "text": [
      "Something     ['Uganda']\n"
     ]
    },
    {
     "name": "stderr",
     "output_type": "stream",
     "text": [
      "C:\\Users\\Sajad\\anaconda3\\lib\\site-packages\\sklearn\\base.py:450: UserWarning: X does not have valid feature names, but LogisticRegression was fitted with feature names\n",
      "  warnings.warn(\n"
     ]
    }
   ],
   "source": [
    "prediction = model.predict((np.array([[2009,\n",
    "                                      3.7,\n",
    "                                      7.3,\n",
    "                                      0.451,\n",
    "                                      50.80,\n",
    "                                      0.7,\n",
    "                                      0.168,\n",
    "                                      0.882,\n",
    "                                      0.518,\n",
    "                                      0.258]])))\n",
    "\n",
    "print(\"The S\", prediction)"
   ]
  },
  {
   "cell_type": "code",
   "execution_count": null,
   "id": "11fcd8c4",
   "metadata": {},
   "outputs": [],
   "source": []
  }
 ],
 "metadata": {
  "kernelspec": {
   "display_name": "Python 3 (ipykernel)",
   "language": "python",
   "name": "python3"
  },
  "language_info": {
   "codemirror_mode": {
    "name": "ipython",
    "version": 3
   },
   "file_extension": ".py",
   "mimetype": "text/x-python",
   "name": "python",
   "nbconvert_exporter": "python",
   "pygments_lexer": "ipython3",
   "version": "3.9.12"
  }
 },
 "nbformat": 4,
 "nbformat_minor": 5
}
